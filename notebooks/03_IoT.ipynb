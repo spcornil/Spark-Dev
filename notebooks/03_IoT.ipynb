{
 "cells": [
  {
   "cell_type": "code",
   "execution_count": 17,
   "id": "70f53421",
   "metadata": {},
   "outputs": [],
   "source": [
    "from pyspark.sql import SparkSession\n",
    "from pyspark.sql.types import *\n",
    "from pyspark.sql.functions import *"
   ]
  },
  {
   "cell_type": "code",
   "execution_count": 18,
   "id": "efcd5224",
   "metadata": {},
   "outputs": [],
   "source": [
    "if __name__ == \"__main__\":\n",
    "    spark = (SparkSession\n",
    "            .builder\n",
    "            .appName(\"IoT\") \n",
    "            .getOrCreate())"
   ]
  },
  {
   "cell_type": "code",
   "execution_count": 19,
   "id": "5f2aa8f1",
   "metadata": {},
   "outputs": [],
   "source": [
    "iot_file = \"C:/Users/sean.cornillie/Education/LearningSparkV2/Spark_Dev/datasets/iot_devices.json\""
   ]
  },
  {
   "cell_type": "code",
   "execution_count": 20,
   "id": "368df0b9",
   "metadata": {},
   "outputs": [],
   "source": [
    "iot_df = spark.read.json(iot_file)"
   ]
  },
  {
   "cell_type": "code",
   "execution_count": 21,
   "id": "1d7cd72e",
   "metadata": {},
   "outputs": [
    {
     "name": "stdout",
     "output_type": "stream",
     "text": [
      "root\n",
      " |-- battery_level: long (nullable = true)\n",
      " |-- c02_level: long (nullable = true)\n",
      " |-- cca2: string (nullable = true)\n",
      " |-- cca3: string (nullable = true)\n",
      " |-- cn: string (nullable = true)\n",
      " |-- device_id: long (nullable = true)\n",
      " |-- device_name: string (nullable = true)\n",
      " |-- humidity: long (nullable = true)\n",
      " |-- ip: string (nullable = true)\n",
      " |-- latitude: double (nullable = true)\n",
      " |-- lcd: string (nullable = true)\n",
      " |-- longitude: double (nullable = true)\n",
      " |-- scale: string (nullable = true)\n",
      " |-- temp: long (nullable = true)\n",
      " |-- timestamp: long (nullable = true)\n",
      "\n",
      "None\n"
     ]
    }
   ],
   "source": [
    "print(iot_df.printSchema())"
   ]
  },
  {
   "cell_type": "code",
   "execution_count": 22,
   "id": "d52a2b49",
   "metadata": {},
   "outputs": [
    {
     "name": "stdout",
     "output_type": "stream",
     "text": [
      "+-------------+---------+----+----+-------------+---------+--------------------+--------+---------------+--------+------+---------+-------+----+-------------+\n",
      "|battery_level|c02_level|cca2|cca3|           cn|device_id|         device_name|humidity|             ip|latitude|   lcd|longitude|  scale|temp|    timestamp|\n",
      "+-------------+---------+----+----+-------------+---------+--------------------+--------+---------------+--------+------+---------+-------+----+-------------+\n",
      "|            8|      868|  US| USA|United States|        1|meter-gauge-1xbYRYcj|      51|   68.161.225.1|    38.0| green|    -97.0|Celsius|  34|1458444054093|\n",
      "|            7|     1473|  NO| NOR|       Norway|        2|   sensor-pad-2n2Pea|      70|  213.161.254.1|   62.47|   red|     6.15|Celsius|  11|1458444054119|\n",
      "|            2|     1556|  IT| ITA|        Italy|        3| device-mac-36TWSKiT|      44|      88.36.5.1|   42.83|   red|    12.83|Celsius|  19|1458444054120|\n",
      "|            6|     1080|  US| USA|United States|        4|   sensor-pad-4mzWkz|      32|  66.39.173.154|   44.06|yellow|  -121.32|Celsius|  28|1458444054121|\n",
      "|            4|      931|  PH| PHL|  Philippines|        5|therm-stick-5gimp...|      62|    203.82.41.9|   14.58| green|   120.97|Celsius|  25|1458444054122|\n",
      "|            3|     1210|  US| USA|United States|        6|sensor-pad-6al7RT...|      51| 204.116.105.67|   35.93|yellow|   -85.46|Celsius|  27|1458444054122|\n",
      "|            3|     1129|  CN| CHN|        China|        7|meter-gauge-7GeDoanM|      26|  220.173.179.1|   22.82|yellow|   108.32|Celsius|  18|1458444054123|\n",
      "|            0|     1536|  JP| JPN|        Japan|        8|sensor-pad-8xUD6p...|      35|  210.173.177.1|   35.69|   red|   139.69|Celsius|  27|1458444054123|\n",
      "|            3|      807|  JP| JPN|        Japan|        9| device-mac-9GcjZ2pw|      85|  118.23.68.227|   35.69| green|   139.69|Celsius|  13|1458444054124|\n",
      "|            7|     1470|  US| USA|United States|       10|sensor-pad-10Bsyw...|      56|208.109.163.218|   33.61|   red|  -111.89|Celsius|  26|1458444054125|\n",
      "+-------------+---------+----+----+-------------+---------+--------------------+--------+---------------+--------+------+---------+-------+----+-------------+\n",
      "only showing top 10 rows\n",
      "\n"
     ]
    }
   ],
   "source": [
    "iot_df.show(n=10)"
   ]
  },
  {
   "cell_type": "markdown",
   "id": "ccec748d",
   "metadata": {},
   "source": [
    "### 1. Detect failing devices with battery levels below a threshold."
   ]
  },
  {
   "cell_type": "code",
   "execution_count": 23,
   "id": "16d7d1ab",
   "metadata": {},
   "outputs": [
    {
     "name": "stdout",
     "output_type": "stream",
     "text": [
      "+------------------+------------------+------------------+\n",
      "|avg(battery_level)|min(battery_level)|max(battery_level)|\n",
      "+------------------+------------------+------------------+\n",
      "|4.4997678690377665|                 0|                 9|\n",
      "+------------------+------------------+------------------+\n",
      "\n"
     ]
    }
   ],
   "source": [
    "### First want to establish max/min/avg battery level\n",
    "(iot_df\n",
    "    .select(avg(\"battery_level\")\n",
    "           ,min(\"battery_level\")\n",
    "           ,max(\"battery_level\"))\n",
    "    .show())"
   ]
  },
  {
   "cell_type": "code",
   "execution_count": 24,
   "id": "84bec1de",
   "metadata": {},
   "outputs": [
    {
     "name": "stdout",
     "output_type": "stream",
     "text": [
      "+---------+--------------------+\n",
      "|device_id|         device_name|\n",
      "+---------+--------------------+\n",
      "|        3| device-mac-36TWSKiT|\n",
      "|        8|sensor-pad-8xUD6p...|\n",
      "|       12|sensor-pad-12Y2kIm0o|\n",
      "|       14|sensor-pad-14QL93...|\n",
      "|       17|meter-gauge-17zb8...|\n",
      "|       36|sensor-pad-36VQv8...|\n",
      "|       39|device-mac-39iklY...|\n",
      "|       40| sensor-pad-40NjeMqS|\n",
      "|       43|meter-gauge-43RYo...|\n",
      "|       44| sensor-pad-448DeWGL|\n",
      "|       52| sensor-pad-52eFObBC|\n",
      "|       77|meter-gauge-77IKW...|\n",
      "|       80|sensor-pad-80TY4d...|\n",
      "|       84|sensor-pad-84jla9J5O|\n",
      "|       85| therm-stick-85NcuaO|\n",
      "|       87|device-mac-87EJxth2l|\n",
      "|       92| sensor-pad-92vxuq7e|\n",
      "|       98|sensor-pad-98mJQA...|\n",
      "|       99|device-mac-99Xh5Y...|\n",
      "|      102|sensor-pad-102D03...|\n",
      "+---------+--------------------+\n",
      "only showing top 20 rows\n",
      "\n"
     ]
    }
   ],
   "source": [
    "### Then we can set a threshold battery level equal to whatever we want. We chose 3.\n",
    "(iot_df\n",
    "    .select(\"device_id\", \"device_name\")\n",
    "    .where(col(\"battery_level\") < 3)\n",
    "    .orderBy(\"device_id\")\n",
    "    .show()\n",
    ")"
   ]
  },
  {
   "cell_type": "markdown",
   "id": "dafc36dc",
   "metadata": {},
   "source": [
    "### 2. Identify offending countries with high levels of CO2 emissions."
   ]
  },
  {
   "cell_type": "code",
   "execution_count": 25,
   "id": "1e2692e4",
   "metadata": {},
   "outputs": [
    {
     "name": "stdout",
     "output_type": "stream",
     "text": [
      "+------------------+--------------+--------------+\n",
      "|    avg(c02_level)|min(c02_level)|max(c02_level)|\n",
      "+------------------+--------------+--------------+\n",
      "|1199.7639429967098|           800|          1599|\n",
      "+------------------+--------------+--------------+\n",
      "\n"
     ]
    }
   ],
   "source": [
    "### Again, we first want to establish max/min/avg of CO2 emissions\n",
    "(iot_df\n",
    "    .select(avg(\"c02_level\")\n",
    "           ,min(\"c02_level\")\n",
    "           ,max(\"c02_level\"))\n",
    "    .show())"
   ]
  },
  {
   "cell_type": "code",
   "execution_count": 26,
   "id": "2e180e18",
   "metadata": {},
   "outputs": [
    {
     "name": "stdout",
     "output_type": "stream",
     "text": [
      "+----------------+------------------+\n",
      "|              cn|            AvgCO2|\n",
      "+----------------+------------------+\n",
      "|           Gabon|            1523.0|\n",
      "|Falkland Islands|            1424.0|\n",
      "|          Monaco|            1421.5|\n",
      "|          Kosovo|            1389.0|\n",
      "|      San Marino|1379.6666666666667|\n",
      "|         Liberia|            1374.5|\n",
      "|           Syria|            1345.8|\n",
      "|      Mauritania|1344.4285714285713|\n",
      "|           Congo|          1333.375|\n",
      "|           Tonga|            1323.0|\n",
      "|      East Timor|            1310.0|\n",
      "|          Guinea|            1308.0|\n",
      "|        Botswana|1302.6666666666667|\n",
      "+----------------+------------------+\n",
      "\n"
     ]
    }
   ],
   "source": [
    "### Then we can pull avg CO2 by country and decide anyone with CO2 > 1300 is high.\n",
    "(iot_df\n",
    "    .where(col(\"cn\").isNotNull())\n",
    "    .groupBy(\"cn\")\n",
    "    .agg(avg(\"c02_level\").alias(\"AvgCO2\"))\n",
    "    .where(col(\"AvgCO2\") > 1300)\n",
    "    .sort(desc(\"AvgCO2\"))\n",
    "    .show()\n",
    ")"
   ]
  },
  {
   "cell_type": "markdown",
   "id": "9c91cf98",
   "metadata": {},
   "source": [
    "### 3. Compute the min and max values for temperature, battery level, CO2, and humidity."
   ]
  },
  {
   "cell_type": "code",
   "execution_count": 27,
   "id": "270031e9",
   "metadata": {},
   "outputs": [
    {
     "name": "stdout",
     "output_type": "stream",
     "text": [
      "+---------+---------+\n",
      "|min(temp)|max(temp)|\n",
      "+---------+---------+\n",
      "|       10|       34|\n",
      "+---------+---------+\n",
      "\n",
      "+------------------+------------------+\n",
      "|min(battery_level)|max(battery_level)|\n",
      "+------------------+------------------+\n",
      "|                 0|                 9|\n",
      "+------------------+------------------+\n",
      "\n",
      "+--------------+--------------+\n",
      "|min(c02_level)|max(c02_level)|\n",
      "+--------------+--------------+\n",
      "|           800|          1599|\n",
      "+--------------+--------------+\n",
      "\n",
      "+-------------+-------------+\n",
      "|min(humidity)|max(humidity)|\n",
      "+-------------+-------------+\n",
      "|           25|           99|\n",
      "+-------------+-------------+\n",
      "\n"
     ]
    }
   ],
   "source": [
    "(iot_df\n",
    "    .select(min(\"temp\")\n",
    "           ,max(\"temp\"))\n",
    "    .show())\n",
    "\n",
    "(iot_df\n",
    "    .select(min(\"battery_level\")\n",
    "           ,max(\"battery_level\"))\n",
    "    .show())\n",
    "\n",
    "(iot_df\n",
    "    .select(min(\"c02_level\")\n",
    "           ,max(\"c02_level\"))\n",
    "    .show())\n",
    "\n",
    "(iot_df\n",
    "    .select(min(\"humidity\")\n",
    "           ,max(\"humidity\"))\n",
    "    .show())\n"
   ]
  },
  {
   "cell_type": "markdown",
   "id": "0a609e13",
   "metadata": {},
   "source": [
    "### 4. Sort and group by average temperature, CO2, humidity, and country."
   ]
  },
  {
   "cell_type": "code",
   "execution_count": 32,
   "id": "837e5936",
   "metadata": {},
   "outputs": [
    {
     "name": "stdout",
     "output_type": "stream",
     "text": [
      "+-------------------+------------------+------------------+------------------+\n",
      "|                 cn|         avg(temp)|    avg(c02_level)|     avg(humidity)|\n",
      "+-------------------+------------------+------------------+------------------+\n",
      "|                   | 22.17292817679558|1194.5348066298343|62.033149171270715|\n",
      "|        Afghanistan| 24.05263157894737|1228.4736842105262|  66.6842105263158|\n",
      "|            Albania|          20.09375|            1161.0|          67.21875|\n",
      "|            Algeria| 20.91176470588235|1210.9705882352941|63.029411764705884|\n",
      "|     American Samoa|              20.0|1037.6666666666667|56.666666666666664|\n",
      "|            Andorra|             20.25|            1279.0|              75.0|\n",
      "|             Angola|24.107142857142858| 1115.142857142857| 66.03571428571429|\n",
      "|           Anguilla|31.142857142857142| 1165.142857142857|50.714285714285715|\n",
      "|Antigua and Barbuda|20.933333333333334|1171.4833333333333|              58.6|\n",
      "|          Argentina|22.060327198364007|1195.1605316973414| 62.58486707566462|\n",
      "|            Armenia| 21.58823529411765|1207.9117647058824| 63.23529411764706|\n",
      "|              Aruba|             20.75|          1190.125|             64.75|\n",
      "|          Australia|21.908945174735493|1197.1888425777493|  61.8348829753126|\n",
      "|            Austria|21.689466484268127|1194.6155950752393| 62.19904240766074|\n",
      "|         Azerbaijan| 21.46938775510204|1199.2448979591836| 58.55102040816327|\n",
      "|            Bahamas| 24.27777777777778| 1177.388888888889| 68.61111111111111|\n",
      "|            Bahrain|21.527272727272727|1203.8545454545454| 56.25454545454546|\n",
      "|         Bangladesh| 21.99346405228758|1184.4117647058824|62.790849673202615|\n",
      "|           Barbados|23.210526315789473|1257.5526315789473| 58.36842105263158|\n",
      "|            Belarus|22.317073170731707|1208.4715447154472|63.333333333333336|\n",
      "+-------------------+------------------+------------------+------------------+\n",
      "only showing top 20 rows\n",
      "\n"
     ]
    }
   ],
   "source": [
    "(iot_df\n",
    "    .groupBy(\"cn\")\n",
    "    .agg(avg(\"temp\"), avg(\"c02_level\"), avg(\"humidity\"))\n",
    "    .orderBy(\"cn\")\n",
    "    #.explain(True)\n",
    "    .show()\n",
    ")"
   ]
  },
  {
   "cell_type": "code",
   "execution_count": 13,
   "id": "d2075456",
   "metadata": {},
   "outputs": [],
   "source": [
    "spark.stop()"
   ]
  }
 ],
 "metadata": {
  "kernelspec": {
   "display_name": "Python 3 (ipykernel)",
   "language": "python",
   "name": "python3"
  },
  "language_info": {
   "codemirror_mode": {
    "name": "ipython",
    "version": 3
   },
   "file_extension": ".py",
   "mimetype": "text/x-python",
   "name": "python",
   "nbconvert_exporter": "python",
   "pygments_lexer": "ipython3",
   "version": "3.9.12"
  }
 },
 "nbformat": 4,
 "nbformat_minor": 5
}
