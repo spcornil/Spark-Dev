{
 "cells": [
  {
   "cell_type": "code",
   "execution_count": 2,
   "id": "007d52d0",
   "metadata": {},
   "outputs": [],
   "source": [
    "from pyspark.sql import SparkSession\n",
    "from pyspark.sql.types import *\n",
    "#from pyspark.sql import functions as f\n",
    "from pyspark.sql.functions import *"
   ]
  },
  {
   "cell_type": "code",
   "execution_count": 3,
   "id": "e6307bdf",
   "metadata": {},
   "outputs": [],
   "source": [
    "if __name__ == \"__main__\":\n",
    "    spark = (SparkSession\n",
    "            .builder\n",
    "            .appName(\"sf-fire\") \n",
    "            .getOrCreate())\n",
    "#spark.conf.set(\"spark.executor.memory\", \"2g\")"
   ]
  },
  {
   "cell_type": "code",
   "execution_count": 4,
   "id": "c53be83c",
   "metadata": {},
   "outputs": [],
   "source": [
    "fire_schema = StructType([StructField('CallNumber', IntegerType(), True),\n",
    "StructField('UnitID', StringType(), True),\n",
    "StructField('IncidentNumber', IntegerType(), True),\n",
    "StructField('CallType', StringType(), True),\n",
    "StructField('CallDate', StringType(), True),\n",
    "StructField('WatchDate', StringType(), True),\n",
    "StructField('CallFinalDisposition', StringType(), True),\n",
    "StructField('AvailableDtTm', StringType(), True),\n",
    "StructField('Address', StringType(), True),\n",
    "StructField('City', StringType(), True),\n",
    "StructField('Zipcode', IntegerType(), True),\n",
    "StructField('Battalion', StringType(), True),\n",
    "StructField('StationArea', StringType(), True),\n",
    "StructField('Box', StringType(), True),\n",
    "StructField('OriginalPriority', StringType(), True),\n",
    "StructField('Priority', StringType(), True),\n",
    "StructField('FinalPriority', IntegerType(), True),\n",
    "StructField('ALSUnit', BooleanType(), True),\n",
    "StructField('CallTypeGroup', StringType(), True),\n",
    "StructField('NumAlarms', IntegerType(), True),\n",
    "StructField('UnitType', StringType(), True),\n",
    "StructField('UnitSequenceInCallDispatch', IntegerType(), True),\n",
    "StructField('FirePreventionDistrict', StringType(), True),\n",
    "StructField('SupervisorDistrict', StringType(), True),\n",
    "StructField('Neighborhood', StringType(), True),\n",
    "StructField('Location', StringType(), True),\n",
    "StructField('RowID', StringType(), True),\n",
    "StructField('Delay', FloatType(), True)])"
   ]
  },
  {
   "cell_type": "code",
   "execution_count": 5,
   "id": "d0329862",
   "metadata": {},
   "outputs": [],
   "source": [
    "sf_fire_file = \"C:/Users/sean.cornillie/Education/LearningSparkV2/Spark_Dev/datasets/sf-fire-calls.csv\""
   ]
  },
  {
   "cell_type": "code",
   "execution_count": 6,
   "id": "7f95e2c5",
   "metadata": {},
   "outputs": [],
   "source": [
    "fire_df = spark.read.csv(sf_fire_file, header=True, schema=fire_schema)"
   ]
  },
  {
   "cell_type": "code",
   "execution_count": 7,
   "id": "75fc3989",
   "metadata": {},
   "outputs": [
    {
     "name": "stdout",
     "output_type": "stream",
     "text": [
      "root\n",
      " |-- CallNumber: integer (nullable = true)\n",
      " |-- UnitID: string (nullable = true)\n",
      " |-- IncidentNumber: integer (nullable = true)\n",
      " |-- CallType: string (nullable = true)\n",
      " |-- CallDate: string (nullable = true)\n",
      " |-- WatchDate: string (nullable = true)\n",
      " |-- CallFinalDisposition: string (nullable = true)\n",
      " |-- AvailableDtTm: string (nullable = true)\n",
      " |-- Address: string (nullable = true)\n",
      " |-- City: string (nullable = true)\n",
      " |-- Zipcode: integer (nullable = true)\n",
      " |-- Battalion: string (nullable = true)\n",
      " |-- StationArea: string (nullable = true)\n",
      " |-- Box: string (nullable = true)\n",
      " |-- OriginalPriority: string (nullable = true)\n",
      " |-- Priority: string (nullable = true)\n",
      " |-- FinalPriority: integer (nullable = true)\n",
      " |-- ALSUnit: boolean (nullable = true)\n",
      " |-- CallTypeGroup: string (nullable = true)\n",
      " |-- NumAlarms: integer (nullable = true)\n",
      " |-- UnitType: string (nullable = true)\n",
      " |-- UnitSequenceInCallDispatch: integer (nullable = true)\n",
      " |-- FirePreventionDistrict: string (nullable = true)\n",
      " |-- SupervisorDistrict: string (nullable = true)\n",
      " |-- Neighborhood: string (nullable = true)\n",
      " |-- Location: string (nullable = true)\n",
      " |-- RowID: string (nullable = true)\n",
      " |-- Delay: float (nullable = true)\n",
      "\n",
      "None\n"
     ]
    }
   ],
   "source": [
    "print(fire_df.printSchema())"
   ]
  },
  {
   "cell_type": "code",
   "execution_count": 8,
   "id": "d7e4f223",
   "metadata": {},
   "outputs": [
    {
     "name": "stdout",
     "output_type": "stream",
     "text": [
      "+----------+------+--------------+----------------+----------+----------+--------------------+--------------------+--------------------+----+-------+---------+-----------+----+----------------+--------+-------------+-------+-------------+---------+--------+--------------------------+----------------------+------------------+--------------------+--------------------+-------------+---------+\n",
      "|CallNumber|UnitID|IncidentNumber|        CallType|  CallDate| WatchDate|CallFinalDisposition|       AvailableDtTm|             Address|City|Zipcode|Battalion|StationArea| Box|OriginalPriority|Priority|FinalPriority|ALSUnit|CallTypeGroup|NumAlarms|UnitType|UnitSequenceInCallDispatch|FirePreventionDistrict|SupervisorDistrict|        Neighborhood|            Location|        RowID|    Delay|\n",
      "+----------+------+--------------+----------------+----------+----------+--------------------+--------------------+--------------------+----+-------+---------+-----------+----+----------------+--------+-------------+-------+-------------+---------+--------+--------------------------+----------------------+------------------+--------------------+--------------------+-------------+---------+\n",
      "|  20110016|   T13|       2003235|  Structure Fire|01/11/2002|01/10/2002|               Other|01/11/2002 01:51:...|2000 Block of CAL...|  SF|  94109|      B04|         38|3362|               3|       3|            3|  false|         null|        1|   TRUCK|                         2|                     4|                 5|     Pacific Heights|(37.7895840679362...|020110016-T13|     2.95|\n",
      "|  20110022|   M17|       2003241|Medical Incident|01/11/2002|01/10/2002|               Other|01/11/2002 03:01:...|0 Block of SILVER...|  SF|  94124|      B10|         42|6495|               3|       3|            3|   true|         null|        1|   MEDIC|                         1|                    10|                10|Bayview Hunters P...|(37.7337623673897...|020110022-M17|      4.7|\n",
      "|  20110023|   M41|       2003242|Medical Incident|01/11/2002|01/10/2002|               Other|01/11/2002 02:39:...|MARKET ST/MCALLIS...|  SF|  94102|      B03|         01|1455|               3|       3|            3|   true|         null|        1|   MEDIC|                         2|                     3|                 6|          Tenderloin|(37.7811772186856...|020110023-M41|2.4333334|\n",
      "|  20110032|   E11|       2003250|    Vehicle Fire|01/11/2002|01/10/2002|               Other|01/11/2002 04:16:...|APPLETON AV/MISSI...|  SF|  94110|      B06|         32|5626|               3|       3|            3|  false|         null|        1|  ENGINE|                         1|                     6|                 9|      Bernal Heights|(37.7388432849018...|020110032-E11|      1.5|\n",
      "|  20110043|   B04|       2003259|          Alarms|01/11/2002|01/10/2002|               Other|01/11/2002 06:01:...|1400 Block of SUT...|  SF|  94109|      B04|         03|3223|               3|       3|            3|  false|         null|        1|   CHIEF|                         2|                     4|                 2|    Western Addition|(37.7872890372638...|020110043-B04|3.4833333|\n",
      "|  20110072|   T08|       2003279|  Structure Fire|01/11/2002|01/11/2002|               Other|01/11/2002 08:03:...|  BEALE ST/FOLSOM ST|  SF|  94105|      B03|         35|2122|               3|       3|            3|  false|         null|        1|   TRUCK|                         2|                     3|                 6|Financial Distric...|(37.7886866619654...|020110072-T08|     1.75|\n",
      "|  20110125|   E33|       2003301|          Alarms|01/11/2002|01/11/2002|               Other|01/11/2002 09:46:...|0 Block of FARALL...|  SF|  94112|      B09|         33|8324|               3|       3|            3|  false|         null|        1|  ENGINE|                         2|                     9|                11|Oceanview/Merced/...|(37.7140353531157...|020110125-E33|2.7166667|\n",
      "|  20110130|   E36|       2003304|          Alarms|01/11/2002|01/11/2002|               Other|01/11/2002 09:58:...|600 Block of POLK ST|  SF|  94102|      B02|         03|3114|               3|       3|            3|  false|         null|        1|  ENGINE|                         1|                     2|                 6|          Tenderloin|(37.7826266328595...|020110130-E36|1.7833333|\n",
      "|  20110197|   E05|       2003343|Medical Incident|01/11/2002|01/11/2002|               Other|01/11/2002 12:06:...|1500 Block of WEB...|  SF|  94115|      B04|         05|3513|               3|       3|            3|  false|         null|        1|  ENGINE|                         1|                     4|                 5|           Japantown|(37.784958590666,...|020110197-E05|1.5166667|\n",
      "|  20110215|   E06|       2003348|Medical Incident|01/11/2002|01/11/2002|               Other|01/11/2002 01:08:...|DIAMOND ST/MARKET ST|  SF|  94114|      B05|         06|5415|               3|       3|            3|  false|         null|        1|  ENGINE|                         1|                     5|                 8| Castro/Upper Market|(37.7618954753708...|020110215-E06|2.7666667|\n",
      "+----------+------+--------------+----------------+----------+----------+--------------------+--------------------+--------------------+----+-------+---------+-----------+----+----------------+--------+-------------+-------+-------------+---------+--------+--------------------------+----------------------+------------------+--------------------+--------------------+-------------+---------+\n",
      "only showing top 10 rows\n",
      "\n"
     ]
    }
   ],
   "source": [
    "fire_df.show(n=10)"
   ]
  },
  {
   "cell_type": "code",
   "execution_count": 9,
   "id": "a8361bed",
   "metadata": {},
   "outputs": [],
   "source": [
    "parquet_path = \"C:/Users/sean.cornillie/Education/LearningSparkV2/Spark_Dev/datasets/sf-fire-calls2.parquet\""
   ]
  },
  {
   "cell_type": "code",
   "execution_count": 10,
   "id": "90d3d5e3",
   "metadata": {},
   "outputs": [],
   "source": [
    "#fire_df.write.format(\"parquet\").save(parquet_path)"
   ]
  },
  {
   "cell_type": "code",
   "execution_count": 11,
   "id": "90966209",
   "metadata": {},
   "outputs": [],
   "source": [
    "#spark.stop()"
   ]
  },
  {
   "cell_type": "markdown",
   "id": "54cd157b",
   "metadata": {},
   "source": [
    "### Basic SELECT FROM WHERE Statement"
   ]
  },
  {
   "cell_type": "code",
   "execution_count": 12,
   "id": "fe71d0a1",
   "metadata": {},
   "outputs": [
    {
     "name": "stdout",
     "output_type": "stream",
     "text": [
      "+--------------+----------------------+--------------+\n",
      "|IncidentNumber|AvailableDtTm         |CallType      |\n",
      "+--------------+----------------------+--------------+\n",
      "|2003235       |01/11/2002 01:51:44 AM|Structure Fire|\n",
      "|2003250       |01/11/2002 04:16:46 AM|Vehicle Fire  |\n",
      "|2003259       |01/11/2002 06:01:58 AM|Alarms        |\n",
      "|2003279       |01/11/2002 08:03:26 AM|Structure Fire|\n",
      "|2003301       |01/11/2002 09:46:44 AM|Alarms        |\n",
      "+--------------+----------------------+--------------+\n",
      "only showing top 5 rows\n",
      "\n"
     ]
    }
   ],
   "source": [
    "few_fire_df = (fire_df\n",
    "              .select(\"IncidentNumber\", \"AvailableDtTm\",\"CallType\")\n",
    "              .where(col(\"CallType\") != \"Medical Incident\"))\n",
    "few_fire_df.show(5, truncate=False)"
   ]
  },
  {
   "cell_type": "markdown",
   "id": "2b32e400",
   "metadata": {},
   "source": [
    "### Count distinct call types"
   ]
  },
  {
   "cell_type": "code",
   "execution_count": 13,
   "id": "4b6ecf38",
   "metadata": {},
   "outputs": [
    {
     "name": "stdout",
     "output_type": "stream",
     "text": [
      "+-----------------+\n",
      "|DistinctCallTypes|\n",
      "+-----------------+\n",
      "|               30|\n",
      "+-----------------+\n",
      "\n"
     ]
    }
   ],
   "source": [
    "calltype_df = (fire_df\n",
    "               .select(\"CallType\")\n",
    "               .where(col(\"CallType\").isNotNull())\n",
    "               .agg(countDistinct(\"CallType\").alias(\"DistinctCallTypes\")))\n",
    "calltype_df.show()"
   ]
  },
  {
   "cell_type": "markdown",
   "id": "5fb8b351",
   "metadata": {},
   "source": [
    "### Count # of Incidents Grouped by Call Type"
   ]
  },
  {
   "cell_type": "code",
   "execution_count": 14,
   "id": "03fefc1b",
   "metadata": {},
   "outputs": [],
   "source": [
    "### Basic groupby ###\n",
    "##callcounts_df = (fire_df\n",
    "##                 .groupBy(\"CallType\").count()\n",
    "##                 .where(col(\"CallType\").isNotNull())\n",
    "##                )\n",
    "##callcounts_df.show()"
   ]
  },
  {
   "cell_type": "code",
   "execution_count": 15,
   "id": "4840a116",
   "metadata": {},
   "outputs": [
    {
     "name": "stdout",
     "output_type": "stream",
     "text": [
      "+--------------------+---------+\n",
      "|            CallType|CallCount|\n",
      "+--------------------+---------+\n",
      "|    Medical Incident|   113794|\n",
      "|      Structure Fire|    23319|\n",
      "|              Alarms|    19406|\n",
      "|   Traffic Collision|     7013|\n",
      "|Citizen Assist / ...|     2524|\n",
      "|               Other|     2166|\n",
      "|        Outside Fire|     2094|\n",
      "|        Vehicle Fire|      854|\n",
      "|Gas Leak (Natural...|      764|\n",
      "|        Water Rescue|      755|\n",
      "|Odor (Strange / U...|      490|\n",
      "|   Electrical Hazard|      482|\n",
      "|Elevator / Escala...|      453|\n",
      "|Smoke Investigati...|      391|\n",
      "|          Fuel Spill|      193|\n",
      "|              HazMat|      124|\n",
      "|Industrial Accidents|       94|\n",
      "|           Explosion|       89|\n",
      "|Train / Rail Inci...|       57|\n",
      "|  Aircraft Emergency|       36|\n",
      "+--------------------+---------+\n",
      "only showing top 20 rows\n",
      "\n"
     ]
    }
   ],
   "source": [
    "### more comprehensive way, can group and then aggregate how we want, add alias, sort, etc. ###\n",
    "callcounts_df = (fire_df\n",
    "                 .groupBy(\"CallType\")\n",
    "                 .agg(count(\"IncidentNumber\").alias(\"CallCount\"))\n",
    "                 .where(col(\"CallType\").isNotNull())\n",
    "                 .sort(desc(\"CallCount\"))\n",
    "                )\n",
    "callcounts_df.show()"
   ]
  },
  {
   "cell_type": "markdown",
   "id": "2201b83b",
   "metadata": {},
   "source": [
    "### Renaming Columns"
   ]
  },
  {
   "cell_type": "code",
   "execution_count": 16,
   "id": "5328e865",
   "metadata": {},
   "outputs": [
    {
     "name": "stdout",
     "output_type": "stream",
     "text": [
      "+-----+\n",
      "|Delay|\n",
      "+-----+\n",
      "|5.35 |\n",
      "|6.25 |\n",
      "|5.2  |\n",
      "|5.6  |\n",
      "|7.25 |\n",
      "+-----+\n",
      "only showing top 5 rows\n",
      "\n",
      "+---------------------+\n",
      "|ResponseDelayedinMins|\n",
      "+---------------------+\n",
      "|5.35                 |\n",
      "|6.25                 |\n",
      "|5.2                  |\n",
      "|5.6                  |\n",
      "|7.25                 |\n",
      "+---------------------+\n",
      "only showing top 5 rows\n",
      "\n"
     ]
    }
   ],
   "source": [
    "### Original df col naming\n",
    "(fire_df\n",
    ".select(\"Delay\")\n",
    ".where(col(\"Delay\") > 5)\n",
    ".show(5, False))\n",
    "\n",
    "### New df col naming\n",
    "new_fire_df = (fire_df\n",
    "              .withColumnRenamed(\"Delay\",\"ResponseDelayedinMins\"))\n",
    "\n",
    "(new_fire_df\n",
    ".select(\"ResponseDelayedinMins\")\n",
    ".where(col(\"ResponseDelayedinMins\") > 5)\n",
    ".show(5, False))"
   ]
  },
  {
   "cell_type": "markdown",
   "id": "799ac646",
   "metadata": {},
   "source": [
    "### Modifying Columns\n",
    "CallData, WatchDate, AvailableDtTm should all be DateTime but are saved as strings. Need to convert to actual dates.\n",
    "So, we create new cols with converted data, and then drop old cols"
   ]
  },
  {
   "cell_type": "code",
   "execution_count": 17,
   "id": "cee2a862",
   "metadata": {},
   "outputs": [
    {
     "name": "stdout",
     "output_type": "stream",
     "text": [
      "+-------------------+-------------------+-------------------+\n",
      "|IncidentDate       |OnWatchDate        |AvailableDtTS      |\n",
      "+-------------------+-------------------+-------------------+\n",
      "|2002-01-11 00:00:00|2002-01-10 00:00:00|2002-01-11 01:51:44|\n",
      "|2002-01-11 00:00:00|2002-01-10 00:00:00|2002-01-11 03:01:18|\n",
      "|2002-01-11 00:00:00|2002-01-10 00:00:00|2002-01-11 02:39:50|\n",
      "|2002-01-11 00:00:00|2002-01-10 00:00:00|2002-01-11 04:16:46|\n",
      "|2002-01-11 00:00:00|2002-01-10 00:00:00|2002-01-11 06:01:58|\n",
      "+-------------------+-------------------+-------------------+\n",
      "only showing top 5 rows\n",
      "\n"
     ]
    }
   ],
   "source": [
    "fire_ts_df = (new_fire_df\n",
    "             .withColumn(\"IncidentDate\", to_timestamp(col(\"CallDate\"), \"MM/dd/yyyy\"))\n",
    "             .drop(\"CallDate\")\n",
    "             .withColumn(\"OnWatchDate\", to_timestamp(col(\"WatchDate\"),\"MM/dd/yyyy\"))\n",
    "             .withColumn(\"AvailableDtTS\", to_timestamp(col(\"AvailableDtTm\"),\"MM/dd/yyyy hh:mm:ss a\"))\n",
    "             .drop(\"AvailableDtTm\")\n",
    "             )\n",
    "\n",
    "(fire_ts_df\n",
    "    .select(\"IncidentDate\", \"OnWatchDate\", \"AvailableDtTS\")\n",
    "    .show(5, False))"
   ]
  },
  {
   "cell_type": "markdown",
   "id": "0c0e3aa0",
   "metadata": {},
   "source": [
    "Now we can query using date functions like month(), year(), and day()."
   ]
  },
  {
   "cell_type": "code",
   "execution_count": 18,
   "id": "afac9908",
   "metadata": {},
   "outputs": [
    {
     "name": "stdout",
     "output_type": "stream",
     "text": [
      "+------------------+\n",
      "|year(IncidentDate)|\n",
      "+------------------+\n",
      "|              2000|\n",
      "|              2001|\n",
      "|              2002|\n",
      "|              2003|\n",
      "|              2004|\n",
      "|              2005|\n",
      "|              2006|\n",
      "|              2007|\n",
      "|              2008|\n",
      "|              2009|\n",
      "|              2010|\n",
      "|              2011|\n",
      "|              2012|\n",
      "|              2013|\n",
      "|              2014|\n",
      "|              2015|\n",
      "|              2016|\n",
      "|              2017|\n",
      "|              2018|\n",
      "+------------------+\n",
      "\n"
     ]
    }
   ],
   "source": [
    "(fire_ts_df\n",
    "    .select(year('IncidentDate'))\n",
    "    .distinct()\n",
    "    .orderBy(year('IncidentDate'))\n",
    "    .show())"
   ]
  },
  {
   "cell_type": "markdown",
   "id": "5ad08165",
   "metadata": {},
   "source": [
    "### Aggregations\n",
    "Already did this above, but looking for most common types of calls"
   ]
  },
  {
   "cell_type": "code",
   "execution_count": 19,
   "id": "0125f1e3",
   "metadata": {},
   "outputs": [
    {
     "name": "stdout",
     "output_type": "stream",
     "text": [
      "+-------------------------------+---------+\n",
      "|CallType                       |CallCount|\n",
      "+-------------------------------+---------+\n",
      "|Medical Incident               |113794   |\n",
      "|Structure Fire                 |23319    |\n",
      "|Alarms                         |19406    |\n",
      "|Traffic Collision              |7013     |\n",
      "|Citizen Assist / Service Call  |2524     |\n",
      "|Other                          |2166     |\n",
      "|Outside Fire                   |2094     |\n",
      "|Vehicle Fire                   |854      |\n",
      "|Gas Leak (Natural and LP Gases)|764      |\n",
      "|Water Rescue                   |755      |\n",
      "+-------------------------------+---------+\n",
      "only showing top 10 rows\n",
      "\n"
     ]
    }
   ],
   "source": [
    "(fire_ts_df\n",
    "    .groupBy(\"CallType\")\n",
    "    .agg(count(\"IncidentNumber\").alias(\"CallCount\"))\n",
    "    .where(col(\"CallType\").isNotNull())\n",
    "    .sort(desc(\"CallCount\"))\n",
    "    .show(10, truncate=False)\n",
    ")"
   ]
  },
  {
   "cell_type": "markdown",
   "id": "f96f1fe8",
   "metadata": {},
   "source": [
    "### More Basic Aggregate Functions"
   ]
  },
  {
   "cell_type": "code",
   "execution_count": 23,
   "id": "afd7b36a",
   "metadata": {},
   "outputs": [
    {
     "name": "stdout",
     "output_type": "stream",
     "text": [
      "+--------------+-----------------+---------------+---------------+\n",
      "|TotalNumAlarms|  AvgResponseTime|MinResponseTime|MaxResponseTime|\n",
      "+--------------+-----------------+---------------+---------------+\n",
      "|        176170|3.892364154521585|    0.016666668|        1844.55|\n",
      "+--------------+-----------------+---------------+---------------+\n",
      "\n"
     ]
    }
   ],
   "source": [
    "(fire_ts_df\n",
    "    .select(sum(\"NumAlarms\").alias(\"TotalNumAlarms\")\n",
    "            ,avg(\"ResponseDelayedinMins\").alias(\"AvgResponseTime\")\n",
    "            ,min(\"ResponseDelayedinMins\").alias(\"MinResponseTime\")\n",
    "            ,max(\"ResponseDelayedinMins\").alias(\"MaxResponseTime\")\n",
    "           )\n",
    "    .show())"
   ]
  },
  {
   "cell_type": "markdown",
   "id": "4bb3fe6b",
   "metadata": {},
   "source": [
    "### Dataset Practice"
   ]
  },
  {
   "cell_type": "markdown",
   "id": "112de6bc",
   "metadata": {},
   "source": [
    "#### 1. What were all the different types of fire calls in 2018?"
   ]
  },
  {
   "cell_type": "code",
   "execution_count": 49,
   "id": "b2ae24c2",
   "metadata": {},
   "outputs": [
    {
     "name": "stdout",
     "output_type": "stream",
     "text": [
      "+--------------------+\n",
      "|            CallType|\n",
      "+--------------------+\n",
      "|              Alarms|\n",
      "|       Assist Police|\n",
      "|Citizen Assist / ...|\n",
      "|   Electrical Hazard|\n",
      "|Elevator / Escala...|\n",
      "|           Explosion|\n",
      "|          Fuel Spill|\n",
      "|Gas Leak (Natural...|\n",
      "|              HazMat|\n",
      "|    Medical Incident|\n",
      "|Odor (Strange / U...|\n",
      "|               Other|\n",
      "|        Outside Fire|\n",
      "|Smoke Investigati...|\n",
      "|      Structure Fire|\n",
      "|  Suspicious Package|\n",
      "|   Traffic Collision|\n",
      "|Train / Rail Inci...|\n",
      "|        Vehicle Fire|\n",
      "|        Water Rescue|\n",
      "+--------------------+\n",
      "\n"
     ]
    }
   ],
   "source": [
    "### Read up on execution order --> If distinct is placed ahead of where, returns zero rows ###\n",
    "(fire_ts_df\n",
    "    .where(year(col(\"IncidentDate\")) == 2018)\n",
    "    .select(\"CallType\")\n",
    "    .distinct()\n",
    "    .orderBy(\"CallType\")\n",
    "    .show()\n",
    ")"
   ]
  },
  {
   "cell_type": "markdown",
   "id": "35a1d6d1",
   "metadata": {},
   "source": [
    "#### 2. What months within the year 2018 saw the highest number of fire calls?"
   ]
  },
  {
   "cell_type": "code",
   "execution_count": 60,
   "id": "69f11458",
   "metadata": {},
   "outputs": [
    {
     "name": "stdout",
     "output_type": "stream",
     "text": [
      "+-------------------------------+---------+\n",
      "|CallType                       |CallCount|\n",
      "+-------------------------------+---------+\n",
      "|Medical Incident               |7004     |\n",
      "|Alarms                         |1144     |\n",
      "|Structure Fire                 |906      |\n",
      "|Traffic Collision              |433      |\n",
      "|Outside Fire                   |153      |\n",
      "|Other                          |114      |\n",
      "|Citizen Assist / Service Call  |113      |\n",
      "|Gas Leak (Natural and LP Gases)|69       |\n",
      "|Water Rescue                   |43       |\n",
      "|Elevator / Escalator Rescue    |36       |\n",
      "+-------------------------------+---------+\n",
      "only showing top 10 rows\n",
      "\n"
     ]
    }
   ],
   "source": [
    "### Again when where is placed 'lower', does not run. Perhaps runs best when assembled with standard sql execution order (from..where..groupby..select..etc)\n",
    "(fire_ts_df\n",
    "    .where(col(\"CallType\").isNotNull())\n",
    "    .where(year(col(\"IncidentDate\")) == 2018)\n",
    "    .groupBy(\"CallType\")\n",
    "    .agg(count(\"IncidentNumber\").alias(\"CallCount\"))\n",
    "    .sort(desc(\"CallCount\"))\n",
    "    .show(10, truncate=False)\n",
    ")"
   ]
  },
  {
   "cell_type": "markdown",
   "id": "0ae14ca2",
   "metadata": {},
   "source": [
    "#### 3. Which neighborhood in San Francisco generated the most fire calls in 2018?"
   ]
  },
  {
   "cell_type": "code",
   "execution_count": 71,
   "id": "575557d4",
   "metadata": {},
   "outputs": [
    {
     "name": "stdout",
     "output_type": "stream",
     "text": [
      "+------------------------------+-------------+\n",
      "|Neighborhood                  |IncidentCount|\n",
      "+------------------------------+-------------+\n",
      "|Tenderloin                    |1393         |\n",
      "|South of Market               |1053         |\n",
      "|Mission                       |913          |\n",
      "|Financial District/South Beach|772          |\n",
      "|Bayview Hunters Point         |522          |\n",
      "|Western Addition              |352          |\n",
      "|Sunset/Parkside               |346          |\n",
      "|Nob Hill                      |295          |\n",
      "|Hayes Valley                  |291          |\n",
      "|Outer Richmond                |262          |\n",
      "+------------------------------+-------------+\n",
      "only showing top 10 rows\n",
      "\n"
     ]
    }
   ],
   "source": [
    "(fire_ts_df\n",
    "    .where(col(\"Neighborhood\").isNotNull())\n",
    "    .where(year(col(\"IncidentDate\")) == 2018)\n",
    "    .groupBy(\"Neighborhood\")\n",
    "    .agg(count(\"IncidentNumber\").alias(\"IncidentCount\"))\n",
    "    .sort(desc(\"IncidentCount\"))\n",
    "    .show(10, truncate=False)\n",
    ")"
   ]
  },
  {
   "cell_type": "markdown",
   "id": "af3f97ee",
   "metadata": {},
   "source": [
    "#### 4. Which neighborhoods had the worst response times to fire calls in 2018?"
   ]
  },
  {
   "cell_type": "code",
   "execution_count": 70,
   "id": "bf86c26d",
   "metadata": {},
   "outputs": [
    {
     "name": "stdout",
     "output_type": "stream",
     "text": [
      "+------------------------------+-----------------+\n",
      "|Neighborhood                  |AvgResponseTime  |\n",
      "+------------------------------+-----------------+\n",
      "|Chinatown                     |6.190314101143033|\n",
      "|Presidio                      |5.829227011272873|\n",
      "|Treasure Island               |5.453703684111436|\n",
      "|McLaren Park                  |4.74404764175415 |\n",
      "|Bayview Hunters Point         |4.620561962212182|\n",
      "|Presidio Heights              |4.594131482319093|\n",
      "|Inner Sunset                  |4.438095217981896|\n",
      "|Inner Richmond                |4.364728709292966|\n",
      "|Financial District/South Beach|4.344084616885593|\n",
      "|Haight Ashbury                |4.266428579390049|\n",
      "+------------------------------+-----------------+\n",
      "only showing top 10 rows\n",
      "\n"
     ]
    }
   ],
   "source": [
    "(fire_ts_df\n",
    "    .where(col(\"Neighborhood\").isNotNull())\n",
    "    .where(year(col(\"IncidentDate\")) == 2018)\n",
    "    .groupBy(\"Neighborhood\")\n",
    "    .agg(avg(\"ResponseDelayedinMins\").alias(\"AvgResponseTime\"))\n",
    "    .sort(desc(\"AvgResponseTime\"))\n",
    "    .show(10, truncate=False)\n",
    ")"
   ]
  },
  {
   "cell_type": "markdown",
   "id": "6d811dec",
   "metadata": {},
   "source": [
    "#### 5. Which week in the year in 2018 had the most fire calls?"
   ]
  },
  {
   "cell_type": "code",
   "execution_count": 73,
   "id": "5aed995c",
   "metadata": {},
   "outputs": [
    {
     "name": "stdout",
     "output_type": "stream",
     "text": [
      "+------------------------+-------------+\n",
      "|weekofyear(IncidentDate)|IncidentCount|\n",
      "+------------------------+-------------+\n",
      "|22                      |259          |\n",
      "|40                      |255          |\n",
      "|43                      |250          |\n",
      "|25                      |249          |\n",
      "|1                       |246          |\n",
      "|44                      |244          |\n",
      "|13                      |243          |\n",
      "|32                      |243          |\n",
      "|11                      |240          |\n",
      "|5                       |236          |\n",
      "+------------------------+-------------+\n",
      "only showing top 10 rows\n",
      "\n"
     ]
    }
   ],
   "source": [
    "(fire_ts_df\n",
    "    #.where(col(\"Neighborhood\").isNotNull())\n",
    "    .where(year(col(\"IncidentDate\")) == 2018)\n",
    "    .groupBy(weekofyear(\"IncidentDate\"))\n",
    "    .agg(count(\"IncidentNumber\").alias(\"IncidentCount\"))\n",
    "    .sort(desc(\"IncidentCount\"))\n",
    "    .show(10, truncate=False)\n",
    ")"
   ]
  },
  {
   "cell_type": "markdown",
   "id": "c2a504c9",
   "metadata": {},
   "source": [
    "#### 6. Is there a correlation between neighborhood, zip code, and number of fire calls?"
   ]
  },
  {
   "cell_type": "code",
   "execution_count": 75,
   "id": "4286937b",
   "metadata": {},
   "outputs": [],
   "source": [
    "from pyspark.ml.stat import Correlation\n",
    "from pyspark.ml.feature import VectorAssembler"
   ]
  },
  {
   "cell_type": "code",
   "execution_count": 108,
   "id": "d92817f7",
   "metadata": {},
   "outputs": [
    {
     "name": "stdout",
     "output_type": "stream",
     "text": [
      "+-------+-------------+\n",
      "|Zipcode|IncidentCount|\n",
      "+-------+-------------+\n",
      "|  94102|        21840|\n",
      "|  94103|        20897|\n",
      "|  94110|        14801|\n",
      "|  94109|        14686|\n",
      "|  94124|         9236|\n",
      "|  94112|         8421|\n",
      "|  94115|         7812|\n",
      "|  94107|         6941|\n",
      "|  94122|         6355|\n",
      "|  94133|         6246|\n",
      "|  94117|         5804|\n",
      "|  94114|         5175|\n",
      "|  94118|         5157|\n",
      "|  94134|         5009|\n",
      "|  94121|         4555|\n",
      "|  94132|         4321|\n",
      "|  94105|         4236|\n",
      "|  94108|         4084|\n",
      "|  94116|         3933|\n",
      "|  94123|         3719|\n",
      "+-------+-------------+\n",
      "only showing top 20 rows\n",
      "\n"
     ]
    }
   ],
   "source": [
    "df_corr = (fire_ts_df\n",
    "        #.select(\"Neighborhood\", \"Zipcode\", \"IncidentCount\")\n",
    "        .where(col(\"Zipcode\").isNotNull())\n",
    "        #.where(year(col(\"IncidentDate\")) == 2018)\n",
    "        .groupBy(\"Zipcode\")\n",
    "        .agg(count(\"IncidentNumber\").alias(\"IncidentCount\"))\n",
    "        .sort(desc(\"IncidentCount\"))\n",
    "        #.show(n=5, truncate=False)\n",
    "        )\n",
    "df_corr.show()"
   ]
  },
  {
   "cell_type": "code",
   "execution_count": 111,
   "id": "93876701",
   "metadata": {},
   "outputs": [
    {
     "data": {
      "text/plain": [
       "array([ 1.        , -0.52625243, -0.52625243,  1.        ])"
      ]
     },
     "execution_count": 111,
     "metadata": {},
     "output_type": "execute_result"
    }
   ],
   "source": [
    "vector_col = \"corr_features\"\n",
    "assembler = VectorAssembler(inputCols=df_corr.columns, outputCol=vector_col)\n",
    "df_vector = assembler.transform(df_corr).select(vector_col)\n",
    "\n",
    "matrix = Correlation.corr(df_vector, vector_col)\n",
    "\n",
    "matrix.collect()[0][\"pearson({})\".format(vector_col)].values\n"
   ]
  },
  {
   "cell_type": "markdown",
   "id": "4d39dc6b",
   "metadata": {},
   "source": [
    "#### 8. How can we use Parquet files or SQL tables to store this data and read it back?"
   ]
  },
  {
   "cell_type": "code",
   "execution_count": 112,
   "id": "6b6e6d4f",
   "metadata": {},
   "outputs": [],
   "source": [
    "parquet_path = \"C:/Users/sean.cornillie/Education/LearningSparkV2/Spark_Dev/datasets/sf-fire-calls-ts_df.parquet\"\n",
    "fire_df.write.format(\"parquet\").save(parquet_path)"
   ]
  },
  {
   "cell_type": "code",
   "execution_count": 113,
   "id": "6a399eb4",
   "metadata": {},
   "outputs": [],
   "source": [
    "spark.stop()"
   ]
  }
 ],
 "metadata": {
  "kernelspec": {
   "display_name": "Python 3 (ipykernel)",
   "language": "python",
   "name": "python3"
  },
  "language_info": {
   "codemirror_mode": {
    "name": "ipython",
    "version": 3
   },
   "file_extension": ".py",
   "mimetype": "text/x-python",
   "name": "python",
   "nbconvert_exporter": "python",
   "pygments_lexer": "ipython3",
   "version": "3.9.12"
  }
 },
 "nbformat": 4,
 "nbformat_minor": 5
}
