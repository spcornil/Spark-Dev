{
 "cells": [
  {
   "cell_type": "code",
   "execution_count": 2,
   "id": "3d3ced83",
   "metadata": {},
   "outputs": [],
   "source": [
    "from pyspark.sql import SparkSession\n",
    "from pyspark.sql.types import *\n",
    "from pyspark.sql.functions import *"
   ]
  },
  {
   "cell_type": "code",
   "execution_count": 3,
   "id": "aaf966ce",
   "metadata": {},
   "outputs": [],
   "source": [
    "spark = (SparkSession\n",
    "        .builder\n",
    "        .appName(\"departuresDBcreate\")\n",
    "        .getOrCreate())"
   ]
  },
  {
   "cell_type": "markdown",
   "id": "d7154d59",
   "metadata": {},
   "source": [
    "### Creating SQL Databases & Tables"
   ]
  },
  {
   "cell_type": "code",
   "execution_count": 4,
   "id": "60cd28cc",
   "metadata": {},
   "outputs": [
    {
     "data": {
      "text/plain": [
       "DataFrame[]"
      ]
     },
     "execution_count": 4,
     "metadata": {},
     "output_type": "execute_result"
    }
   ],
   "source": [
    "### First we'll create the database itself\n",
    "spark.sql(\"CREATE DATABASE learn_spark_db\")\n",
    "spark.sql(\"USE learn_spark_db\")"
   ]
  },
  {
   "cell_type": "markdown",
   "id": "7404f84b",
   "metadata": {},
   "source": [
    "#### Creating a Managed Table"
   ]
  },
  {
   "cell_type": "code",
   "execution_count": 5,
   "id": "0fc3635f",
   "metadata": {},
   "outputs": [],
   "source": [
    "### Method 1: Issues a SQL statement. We'll use method 2 so commenting this out.\n",
    "#spark.sql(\"CREATE TABLE managed_us_delay_flights_tbl (date STRING, delay INT, distance INT, origin STRING, destination STRING)\")"
   ]
  },
  {
   "cell_type": "code",
   "execution_count": 7,
   "id": "a1265619",
   "metadata": {},
   "outputs": [],
   "source": [
    "### Method 2: Using the DataFrame API\n",
    "\n",
    "csv = \"C:/Users/sean.cornillie/Education/LearningSparkV2/Spark_Dev/datasets/departuredelays.csv\"\n",
    "schema = \"date STRING, delay INT, distance INT, origin STRING, destination STRING\"\n",
    "\n",
    "flights_df = spark.read.csv(csv, schema=schema)\n",
    "flights_df.write.saveAsTable(\"managed_us_delay_flights_tbl\")"
   ]
  },
  {
   "cell_type": "markdown",
   "id": "bdb4bccf",
   "metadata": {},
   "source": [
    "#### Creating an Unmanaged Table"
   ]
  },
  {
   "cell_type": "code",
   "execution_count": 8,
   "id": "f0636cf2",
   "metadata": {},
   "outputs": [],
   "source": [
    "(flights_df\n",
    "    .write\n",
    "    .option(\"path\", \"/tmp/data/us_flights_delay\")\n",
    "    .saveAsTable(\"us_delay_flights_tbl\")\n",
    "    )"
   ]
  },
  {
   "cell_type": "code",
   "execution_count": null,
   "id": "9b806439",
   "metadata": {},
   "outputs": [],
   "source": []
  }
 ],
 "metadata": {
  "kernelspec": {
   "display_name": "Python 3 (ipykernel)",
   "language": "python",
   "name": "python3"
  },
  "language_info": {
   "codemirror_mode": {
    "name": "ipython",
    "version": 3
   },
   "file_extension": ".py",
   "mimetype": "text/x-python",
   "name": "python",
   "nbconvert_exporter": "python",
   "pygments_lexer": "ipython3",
   "version": "3.9.12"
  }
 },
 "nbformat": 4,
 "nbformat_minor": 5
}
