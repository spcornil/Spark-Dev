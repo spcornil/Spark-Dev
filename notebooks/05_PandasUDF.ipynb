{
 "cells": [
  {
   "cell_type": "code",
   "execution_count": 1,
   "id": "e8f0a138",
   "metadata": {},
   "outputs": [],
   "source": [
    "from pyspark.sql import SparkSession\n",
    "from pyspark.sql.types import *\n",
    "from pyspark.sql.functions import *"
   ]
  },
  {
   "cell_type": "code",
   "execution_count": 2,
   "id": "34344e4e",
   "metadata": {},
   "outputs": [],
   "source": [
    "spark = (SparkSession\n",
    "        .builder\n",
    "        .appName(\"FunctionsCh05\")\n",
    "        .getOrCreate())"
   ]
  },
  {
   "cell_type": "markdown",
   "id": "76b007f8",
   "metadata": {},
   "source": [
    "# User-Defined Functions\n",
    "Spark allows for engineers to build own functions aka User-Defined Functions (UDFs)"
   ]
  },
  {
   "cell_type": "markdown",
   "id": "163e9e1c",
   "metadata": {},
   "source": [
    "## Spark SQL UDFs"
   ]
  },
  {
   "cell_type": "code",
   "execution_count": 3,
   "id": "c263732b",
   "metadata": {},
   "outputs": [],
   "source": [
    "### First create a function\n",
    "def cubed(s):\n",
    "    return s * s * s    "
   ]
  },
  {
   "cell_type": "code",
   "execution_count": 4,
   "id": "ac0fbe05",
   "metadata": {},
   "outputs": [
    {
     "data": {
      "text/plain": [
       "<function __main__.cubed(s)>"
      ]
     },
     "execution_count": 4,
     "metadata": {},
     "output_type": "execute_result"
    }
   ],
   "source": [
    "### Then we'll register this UDF with the session. Will persist only for this session.\n",
    "spark.udf.register(\"cubed\", cubed, LongType())"
   ]
  },
  {
   "cell_type": "code",
   "execution_count": 5,
   "id": "660c3937",
   "metadata": {},
   "outputs": [],
   "source": [
    "### Create temp view with range 1-9\n",
    "spark.range(1,9).createOrReplaceTempView(\"udf_test\")"
   ]
  },
  {
   "cell_type": "code",
   "execution_count": 6,
   "id": "db147f49",
   "metadata": {},
   "outputs": [
    {
     "name": "stdout",
     "output_type": "stream",
     "text": [
      "+---+--------+\n",
      "| id|id_cubed|\n",
      "+---+--------+\n",
      "|  1|       1|\n",
      "|  2|       8|\n",
      "|  3|      27|\n",
      "|  4|      64|\n",
      "|  5|     125|\n",
      "|  6|     216|\n",
      "|  7|     343|\n",
      "|  8|     512|\n",
      "+---+--------+\n",
      "\n"
     ]
    }
   ],
   "source": [
    "### Now can query and even run UDF within a select statement.\n",
    "spark.sql(\"SELECT id, cubed(id) AS id_cubed FROM udf_test\").show()"
   ]
  },
  {
   "cell_type": "markdown",
   "id": "01b1b8f8",
   "metadata": {},
   "source": [
    "## Pandas UDFs\n",
    "Downside to PySpark UDFs: Very expensive/slow b/c they run one row at a time. Resolved by introducing Pandas UDFs that run on Apache Arrow."
   ]
  },
  {
   "cell_type": "code",
   "execution_count": 7,
   "id": "c41567ac",
   "metadata": {},
   "outputs": [],
   "source": [
    "import pandas as pd\n",
    "\n",
    "### Requirement: pip install pyarrow"
   ]
  },
  {
   "cell_type": "code",
   "execution_count": 8,
   "id": "6494531d",
   "metadata": {},
   "outputs": [],
   "source": [
    "### Again define our function\n",
    "def cubed(a: pd.Series) -> pd.Series:\n",
    "    return a * a * a"
   ]
  },
  {
   "cell_type": "code",
   "execution_count": 9,
   "id": "14712935",
   "metadata": {},
   "outputs": [],
   "source": [
    "### Create our pandas DF with our cubed function.\n",
    "cubed_udf = pandas_udf(cubed, returnType=LongType())"
   ]
  },
  {
   "cell_type": "markdown",
   "id": "1a1de5de",
   "metadata": {},
   "source": [
    "#### Here we can create a series with pandas and execute our function with that local pandas data"
   ]
  },
  {
   "cell_type": "code",
   "execution_count": 10,
   "id": "34d6381b",
   "metadata": {},
   "outputs": [
    {
     "name": "stdout",
     "output_type": "stream",
     "text": [
      "0     1\n",
      "1     8\n",
      "2    27\n",
      "dtype: int64\n"
     ]
    }
   ],
   "source": [
    "### Create the series\n",
    "x = pd.Series([1,2,3])\n",
    "\n",
    "### Execute our function\n",
    "print(cubed(x))"
   ]
  },
  {
   "cell_type": "markdown",
   "id": "bf901b8e",
   "metadata": {},
   "source": [
    "#### Now let's execute this function with a Spark DataFrame."
   ]
  },
  {
   "cell_type": "code",
   "execution_count": 11,
   "id": "40d4ae12",
   "metadata": {},
   "outputs": [],
   "source": [
    "### Create the series\n",
    "df = spark.range(1,4)"
   ]
  },
  {
   "cell_type": "code",
   "execution_count": 12,
   "id": "586db83b",
   "metadata": {},
   "outputs": [
    {
     "name": "stdout",
     "output_type": "stream",
     "text": [
      "+---+---------+\n",
      "| id|cubed(id)|\n",
      "+---+---------+\n",
      "|  1|        1|\n",
      "|  2|        8|\n",
      "|  3|       27|\n",
      "+---+---------+\n",
      "\n"
     ]
    }
   ],
   "source": [
    "### Execute with Spark\n",
    "df.select(\"id\", cubed_udf(col(\"id\"))).show()"
   ]
  },
  {
   "cell_type": "markdown",
   "id": "fd3cd305",
   "metadata": {},
   "source": [
    "Can see with the Spark UI http://localhost:4040/jobs/ that we actually created and executed a spark job to run this calc."
   ]
  },
  {
   "cell_type": "markdown",
   "id": "0c022dac",
   "metadata": {},
   "source": [
    "# Higher-Order Functions\n",
    "Take anonymous lambda functions as arguments"
   ]
  },
  {
   "cell_type": "code",
   "execution_count": 13,
   "id": "a7d65880",
   "metadata": {},
   "outputs": [],
   "source": [
    "### Create sample data set so we can run some examples\n",
    "schema = StructType([StructField(\"celsius\", ArrayType(IntegerType()))])\n",
    "\n",
    "t_list = [[35, 36, 32, 30, 40, 42, 38]], [[31, 32, 34, 55, 56]]\n",
    "t_c = spark.createDataFrame(t_list, schema)\n",
    "t_c.createOrReplaceTempView(\"tC\")"
   ]
  },
  {
   "cell_type": "code",
   "execution_count": 14,
   "id": "85c46257",
   "metadata": {},
   "outputs": [
    {
     "name": "stdout",
     "output_type": "stream",
     "text": [
      "+--------------------+\n",
      "|             celsius|\n",
      "+--------------------+\n",
      "|[35, 36, 32, 30, ...|\n",
      "|[31, 32, 34, 55, 56]|\n",
      "+--------------------+\n",
      "\n"
     ]
    }
   ],
   "source": [
    "t_c.show()"
   ]
  },
  {
   "cell_type": "markdown",
   "id": "af8753f8",
   "metadata": {},
   "source": [
    "### transform()\n",
    "Produces an array by applying a function to each element of the input array"
   ]
  },
  {
   "cell_type": "code",
   "execution_count": 15,
   "id": "6f1f9193",
   "metadata": {},
   "outputs": [
    {
     "name": "stdout",
     "output_type": "stream",
     "text": [
      "+--------------------+--------------------+\n",
      "|             celsius|          fahrenheit|\n",
      "+--------------------+--------------------+\n",
      "|[35, 36, 32, 30, ...|[95, 96, 89, 86, ...|\n",
      "|[31, 32, 34, 55, 56]|[87, 89, 93, 131,...|\n",
      "+--------------------+--------------------+\n",
      "\n"
     ]
    }
   ],
   "source": [
    "### Calculate Fahrenheit from Celsius for an array of temperatures\n",
    "spark.sql(\"\"\"SELECT celsius,\n",
    "                transform(celsius, t -> ((t * 9) div 5) + 32) as fahrenheit\n",
    "             FROM tC\"\"\").show()"
   ]
  },
  {
   "cell_type": "markdown",
   "id": "84733ff5",
   "metadata": {},
   "source": [
    "### filter()\n",
    "Produces an array consisting of only the elements of the input array for which the Boolean function is true"
   ]
  },
  {
   "cell_type": "code",
   "execution_count": 16,
   "id": "c0486b5c",
   "metadata": {},
   "outputs": [
    {
     "name": "stdout",
     "output_type": "stream",
     "text": [
      "+--------------------+--------+\n",
      "|             celsius|    high|\n",
      "+--------------------+--------+\n",
      "|[35, 36, 32, 30, ...|[40, 42]|\n",
      "|[31, 32, 34, 55, 56]|[55, 56]|\n",
      "+--------------------+--------+\n",
      "\n"
     ]
    }
   ],
   "source": [
    "### Filter temperatures > 38C for array of temperatures\n",
    "spark.sql(\"\"\"SELECT celsius,\n",
    "                filter(celsius, t -> t > 38) as high\n",
    "             FROM tC\"\"\").show()"
   ]
  },
  {
   "cell_type": "markdown",
   "id": "e861cda2",
   "metadata": {},
   "source": [
    "### exists()\n",
    "Returns true if the Boolean function holds for any element in the input array"
   ]
  },
  {
   "cell_type": "code",
   "execution_count": 17,
   "id": "a10009ec",
   "metadata": {},
   "outputs": [
    {
     "name": "stdout",
     "output_type": "stream",
     "text": [
      "+--------------------+---------+\n",
      "|             celsius|threshold|\n",
      "+--------------------+---------+\n",
      "|[35, 36, 32, 30, ...|     true|\n",
      "|[31, 32, 34, 55, 56]|    false|\n",
      "+--------------------+---------+\n",
      "\n"
     ]
    }
   ],
   "source": [
    "### Is there a temperature of 38C in the array of temperatures?\n",
    "spark.sql(\"\"\"SELECT celsius,\n",
    "                exists(celsius, t -> t = 38) as threshold\n",
    "             FROM tC\"\"\").show()"
   ]
  },
  {
   "cell_type": "markdown",
   "id": "f97e071a",
   "metadata": {},
   "source": [
    "## aggregate()\n",
    "Reduces the elements of the array into a single value. Originally the reduce() function."
   ]
  },
  {
   "cell_type": "code",
   "execution_count": 25,
   "id": "f323fa06",
   "metadata": {},
   "outputs": [],
   "source": [
    "### requirement\n",
    "import functools"
   ]
  },
  {
   "cell_type": "code",
   "execution_count": 27,
   "id": "086bf6aa",
   "metadata": {},
   "outputs": [
    {
     "name": "stdout",
     "output_type": "stream",
     "text": [
      "+--------------------+-------------+\n",
      "|             celsius|avgFahrenheit|\n",
      "+--------------------+-------------+\n",
      "|[35, 36, 32, 30, ...|           96|\n",
      "|[31, 32, 34, 55, 56]|          105|\n",
      "+--------------------+-------------+\n",
      "\n"
     ]
    }
   ],
   "source": [
    "### Calculate average temperature and convert to F\n",
    "spark.sql(\"\"\"SELECT celsius,\n",
    "                aggregate(\n",
    "                celsius,\n",
    "                0,\n",
    "                (t, acc) -> t + acc,\n",
    "                acc -> (acc div size(celsius) * 9 div 5) + 32\n",
    "                ) as avgFahrenheit\n",
    "            FROM tC\"\"\").show()"
   ]
  },
  {
   "cell_type": "markdown",
   "id": "71a3113e",
   "metadata": {},
   "source": [
    "# Common DataFrames and Spark SQL Operations"
   ]
  },
  {
   "cell_type": "code",
   "execution_count": 28,
   "id": "39bbcde3",
   "metadata": {},
   "outputs": [],
   "source": [
    "###pg 144\n",
    "spark.stop()"
   ]
  },
  {
   "cell_type": "code",
   "execution_count": null,
   "id": "67a531d8",
   "metadata": {},
   "outputs": [],
   "source": []
  }
 ],
 "metadata": {
  "kernelspec": {
   "display_name": "Python 3 (ipykernel)",
   "language": "python",
   "name": "python3"
  },
  "language_info": {
   "codemirror_mode": {
    "name": "ipython",
    "version": 3
   },
   "file_extension": ".py",
   "mimetype": "text/x-python",
   "name": "python",
   "nbconvert_exporter": "python",
   "pygments_lexer": "ipython3",
   "version": "3.9.12"
  }
 },
 "nbformat": 4,
 "nbformat_minor": 5
}
